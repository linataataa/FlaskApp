{
 "cells": [
  {
   "cell_type": "code",
   "execution_count": 1,
   "id": "836728a3-6ee2-426b-9b02-9380a951fca7",
   "metadata": {},
   "outputs": [],
   "source": [
    "from pyspark.ml.classification import LogisticRegression"
   ]
  },
  {
   "cell_type": "code",
   "execution_count": 2,
   "id": "210a82bc-b6d1-4427-8a23-070e7f26c6f2",
   "metadata": {},
   "outputs": [],
   "source": [
    "from pyspark.sql import SparkSession\n",
    "spark = SparkSession.builder.appName('CustomerPrediction').getOrCreate()\n",
    "chemin_fichier = 'C:/Users/khoul/OneDrive/Bureau/churn-bigml-80.csv'"
   ]
  },
  {
   "cell_type": "code",
   "execution_count": 3,
   "id": "b6ad1c7c-72d5-45f0-a91d-2c6325a78eb8",
   "metadata": {},
   "outputs": [],
   "source": [
    "input_data = spark.read.csv(chemin_fichier, header=True, inferSchema=True)"
   ]
  },
  {
   "cell_type": "code",
   "execution_count": 4,
   "id": "9eaa57a7-c98c-4950-b7f2-02b9feb22875",
   "metadata": {},
   "outputs": [
    {
     "name": "stdout",
     "output_type": "stream",
     "text": [
      "root\n",
      " |-- State: string (nullable = true)\n",
      " |-- Account length: integer (nullable = true)\n",
      " |-- Area code: integer (nullable = true)\n",
      " |-- International plan: string (nullable = true)\n",
      " |-- Voice mail plan: string (nullable = true)\n",
      " |-- Number vmail messages: integer (nullable = true)\n",
      " |-- Total day minutes: double (nullable = true)\n",
      " |-- Total day calls: integer (nullable = true)\n",
      " |-- Total day charge: double (nullable = true)\n",
      " |-- Total eve minutes: double (nullable = true)\n",
      " |-- Total eve calls: integer (nullable = true)\n",
      " |-- Total eve charge: double (nullable = true)\n",
      " |-- Total night minutes: double (nullable = true)\n",
      " |-- Total night calls: integer (nullable = true)\n",
      " |-- Total night charge: double (nullable = true)\n",
      " |-- Total intl minutes: double (nullable = true)\n",
      " |-- Total intl calls: integer (nullable = true)\n",
      " |-- Total intl charge: double (nullable = true)\n",
      " |-- Customer service calls: integer (nullable = true)\n",
      " |-- Churn: boolean (nullable = true)\n",
      "\n"
     ]
    }
   ],
   "source": [
    "input_data.printSchema()"
   ]
  },
  {
   "cell_type": "code",
   "execution_count": 5,
   "id": "8cc9afd8-cb23-4601-a1eb-556be8d0d022",
   "metadata": {},
   "outputs": [
    {
     "data": {
      "text/plain": [
       "2666"
      ]
     },
     "execution_count": 5,
     "metadata": {},
     "output_type": "execute_result"
    }
   ],
   "source": [
    "input_data.count()"
   ]
  },
  {
   "cell_type": "code",
   "execution_count": 6,
   "id": "d206ae93-2555-4905-b54a-53000db08d44",
   "metadata": {},
   "outputs": [],
   "source": [
    "from pyspark.sql.functions import when\n",
    "input_data = input_data.withColumn('churn_integer', when(input_data['churn'] == True, 1).otherwise(0))"
   ]
  },
  {
   "cell_type": "code",
   "execution_count": 7,
   "id": "a86accbf-6ae8-4259-9790-bbe4532037a9",
   "metadata": {},
   "outputs": [],
   "source": [
    "from pyspark.ml.feature import VectorAssembler"
   ]
  },
  {
   "cell_type": "code",
   "execution_count": 8,
   "id": "ed1b4808-b8eb-4e30-85e5-7539b780910f",
   "metadata": {},
   "outputs": [
    {
     "name": "stdout",
     "output_type": "stream",
     "text": [
      "root\n",
      " |-- State: string (nullable = true)\n",
      " |-- Account length: integer (nullable = true)\n",
      " |-- Area code: integer (nullable = true)\n",
      " |-- International plan: string (nullable = true)\n",
      " |-- Voice mail plan: string (nullable = true)\n",
      " |-- Number vmail messages: integer (nullable = true)\n",
      " |-- Total day minutes: double (nullable = true)\n",
      " |-- Total day calls: integer (nullable = true)\n",
      " |-- Total day charge: double (nullable = true)\n",
      " |-- Total eve minutes: double (nullable = true)\n",
      " |-- Total eve calls: integer (nullable = true)\n",
      " |-- Total eve charge: double (nullable = true)\n",
      " |-- Total night minutes: double (nullable = true)\n",
      " |-- Total night calls: integer (nullable = true)\n",
      " |-- Total night charge: double (nullable = true)\n",
      " |-- Total intl minutes: double (nullable = true)\n",
      " |-- Total intl calls: integer (nullable = true)\n",
      " |-- Total intl charge: double (nullable = true)\n",
      " |-- Customer service calls: integer (nullable = true)\n",
      " |-- Churn: boolean (nullable = true)\n",
      " |-- churn_integer: integer (nullable = false)\n",
      "\n"
     ]
    }
   ],
   "source": [
    "input_data.printSchema()"
   ]
  },
  {
   "cell_type": "code",
   "execution_count": 9,
   "id": "c55c0374-2dff-43e2-b7ad-8f41e291e594",
   "metadata": {},
   "outputs": [],
   "source": [
    "assembler=VectorAssembler(inputCols=['Account length', 'Area code', 'Total eve calls', 'Total day minutes', 'Total day calls', 'Total day charge','Customer service calls'], outputCol='features')"
   ]
  },
  {
   "cell_type": "code",
   "execution_count": 10,
   "id": "0aeacfdb-07cb-4519-8525-1c40a3c030d2",
   "metadata": {},
   "outputs": [],
   "source": [
    "output_data=assembler.transform(input_data)"
   ]
  },
  {
   "cell_type": "code",
   "execution_count": 11,
   "id": "5c2a6372-3b91-48b2-bba1-74847c98a5d9",
   "metadata": {},
   "outputs": [
    {
     "name": "stdout",
     "output_type": "stream",
     "text": [
      "root\n",
      " |-- State: string (nullable = true)\n",
      " |-- Account length: integer (nullable = true)\n",
      " |-- Area code: integer (nullable = true)\n",
      " |-- International plan: string (nullable = true)\n",
      " |-- Voice mail plan: string (nullable = true)\n",
      " |-- Number vmail messages: integer (nullable = true)\n",
      " |-- Total day minutes: double (nullable = true)\n",
      " |-- Total day calls: integer (nullable = true)\n",
      " |-- Total day charge: double (nullable = true)\n",
      " |-- Total eve minutes: double (nullable = true)\n",
      " |-- Total eve calls: integer (nullable = true)\n",
      " |-- Total eve charge: double (nullable = true)\n",
      " |-- Total night minutes: double (nullable = true)\n",
      " |-- Total night calls: integer (nullable = true)\n",
      " |-- Total night charge: double (nullable = true)\n",
      " |-- Total intl minutes: double (nullable = true)\n",
      " |-- Total intl calls: integer (nullable = true)\n",
      " |-- Total intl charge: double (nullable = true)\n",
      " |-- Customer service calls: integer (nullable = true)\n",
      " |-- Churn: boolean (nullable = true)\n",
      " |-- churn_integer: integer (nullable = false)\n",
      " |-- features: vector (nullable = true)\n",
      "\n"
     ]
    }
   ],
   "source": [
    "output_data.printSchema()"
   ]
  },
  {
   "cell_type": "code",
   "execution_count": 12,
   "id": "93d9c659-83af-439e-a9b1-847cd628e60b",
   "metadata": {},
   "outputs": [
    {
     "data": {
      "text/plain": [
       "[Row(State='KS', Account length=128, Area code=415, International plan='No', Voice mail plan='Yes', Number vmail messages=25, Total day minutes=265.1, Total day calls=110, Total day charge=45.07, Total eve minutes=197.4, Total eve calls=99, Total eve charge=16.78, Total night minutes=244.7, Total night calls=91, Total night charge=11.01, Total intl minutes=10.0, Total intl calls=3, Total intl charge=2.7, Customer service calls=1, Churn=False, churn_integer=0, features=DenseVector([128.0, 415.0, 99.0, 265.1, 110.0, 45.07, 1.0]))]"
      ]
     },
     "execution_count": 12,
     "metadata": {},
     "output_type": "execute_result"
    }
   ],
   "source": [
    "output_data.head(1)"
   ]
  },
  {
   "cell_type": "code",
   "execution_count": 13,
   "id": "e8428bd3-dc70-45de-9c36-4d904c9011f4",
   "metadata": {},
   "outputs": [],
   "source": [
    "final_data=output_data.select('features','churn_integer')"
   ]
  },
  {
   "cell_type": "code",
   "execution_count": 14,
   "id": "228a72a4-f621-4696-8ab7-0335c90cddb1",
   "metadata": {},
   "outputs": [
    {
     "name": "stdout",
     "output_type": "stream",
     "text": [
      "root\n",
      " |-- features: vector (nullable = true)\n",
      " |-- churn_integer: integer (nullable = false)\n",
      "\n"
     ]
    }
   ],
   "source": [
    "final_data.printSchema()"
   ]
  },
  {
   "cell_type": "code",
   "execution_count": 15,
   "id": "e9fc0868-7a42-4420-a42c-79a404c1ff7b",
   "metadata": {},
   "outputs": [],
   "source": [
    "train,test=final_data.randomSplit([0.7,0.3])"
   ]
  },
  {
   "cell_type": "code",
   "execution_count": 16,
   "id": "b83ced7c-c350-47f2-9db6-15af54ccad18",
   "metadata": {},
   "outputs": [],
   "source": [
    "model=LogisticRegression(labelCol='churn_integer')"
   ]
  },
  {
   "cell_type": "code",
   "execution_count": 17,
   "id": "d0d1af80-1be7-4e11-9e45-2f4e07372bc1",
   "metadata": {},
   "outputs": [],
   "source": [
    "model=model.fit(train)\n"
   ]
  },
  {
   "cell_type": "code",
   "execution_count": 18,
   "id": "99a5870c-377f-4422-addd-baf96f5d6195",
   "metadata": {},
   "outputs": [],
   "source": [
    "summary=model.summary"
   ]
  },
  {
   "cell_type": "code",
   "execution_count": 19,
   "id": "a7d77602-35dc-4493-9e57-27eb6e4a47a7",
   "metadata": {},
   "outputs": [
    {
     "name": "stdout",
     "output_type": "stream",
     "text": [
      "+-------+-------------------+--------------------+\n",
      "|summary|      churn_integer|          prediction|\n",
      "+-------+-------------------+--------------------+\n",
      "|  count|               1865|                1865|\n",
      "|   mean|0.14691689008042896|0.011260053619302948|\n",
      "| stddev| 0.3541179970818712| 0.10554258663376014|\n",
      "|    min|                0.0|                 0.0|\n",
      "|    max|                1.0|                 1.0|\n",
      "+-------+-------------------+--------------------+\n",
      "\n"
     ]
    }
   ],
   "source": [
    "summary.predictions.describe().show()"
   ]
  },
  {
   "cell_type": "code",
   "execution_count": 20,
   "id": "0bd7dcab-a993-4450-8796-aebcf9b73627",
   "metadata": {},
   "outputs": [],
   "source": [
    "from pyspark.ml.evaluation import BinaryClassificationEvaluator"
   ]
  },
  {
   "cell_type": "code",
   "execution_count": 21,
   "id": "6a028210-182b-423c-a392-e9d59d03edc7",
   "metadata": {},
   "outputs": [],
   "source": [
    "prediction=model.evaluate(test)"
   ]
  },
  {
   "cell_type": "code",
   "execution_count": 22,
   "id": "0801d7d9-a7bc-4545-a411-1928d90aac96",
   "metadata": {},
   "outputs": [
    {
     "name": "stdout",
     "output_type": "stream",
     "text": [
      "+--------------------+-------------+--------------------+--------------------+----------+\n",
      "|            features|churn_integer|       rawPrediction|         probability|prediction|\n",
      "+--------------------+-------------+--------------------+--------------------+----------+\n",
      "|[1.0,408.0,77.0,1...|            0|[3.31443568483195...|[0.96492073303467...|       0.0|\n",
      "|[1.0,415.0,110.0,...|            0|[2.74955210668282...|[0.93988804950883...|       0.0|\n",
      "|[3.0,415.0,129.0,...|            0|[1.50969749360530...|[0.81901637108929...|       0.0|\n",
      "|[5.0,415.0,12.0,1...|            0|[1.29604187474552...|[0.78516808340377...|       0.0|\n",
      "|[6.0,408.0,122.0,...|            0|[0.92977521396829...|[0.71702967905520...|       0.0|\n",
      "|[7.0,415.0,83.0,2...|            0|[1.16319182087698...|[0.76191220147497...|       0.0|\n",
      "|[8.0,415.0,59.0,2...|            0|[1.71346713555751...|[0.84728544705659...|       0.0|\n",
      "|[11.0,408.0,111.0...|            0|[2.32171431199905...|[0.91065951319684...|       0.0|\n",
      "|[13.0,415.0,64.0,...|            0|[3.55090821967311...|[0.97210206736842...|       0.0|\n",
      "|[13.0,415.0,86.0,...|            1|[1.68804508226765...|[0.84396689613895...|       0.0|\n",
      "|[15.0,510.0,76.0,...|            0|[2.27127490867898...|[0.90646993334400...|       0.0|\n",
      "|[16.0,408.0,85.0,...|            0|[1.92792589711976...|[0.87301967028898...|       0.0|\n",
      "|[18.0,408.0,107.0...|            0|[1.29877671838693...|[0.78562903476473...|       0.0|\n",
      "|[19.0,415.0,121.0...|            0|[2.22259680347611...|[0.90226043815164...|       0.0|\n",
      "|[19.0,510.0,97.0,...|            0|[2.68672081781531...|[0.93623850752348...|       0.0|\n",
      "|[22.0,408.0,103.0...|            0|[2.09940157477037...|[0.89084500143336...|       0.0|\n",
      "|[22.0,415.0,148.0...|            0|[1.87334738543249...|[0.86684512295226...|       0.0|\n",
      "|[22.0,510.0,59.0,...|            0|[1.38280444323055...|[0.79944102847562...|       0.0|\n",
      "|[23.0,510.0,115.0...|            1|[0.60058862336829...|[0.64579096242715...|       0.0|\n",
      "|[24.0,408.0,81.0,...|            1|[2.15459895736607...|[0.89609775071395...|       0.0|\n",
      "+--------------------+-------------+--------------------+--------------------+----------+\n",
      "only showing top 20 rows\n",
      "\n"
     ]
    }
   ],
   "source": [
    "prediction.predictions.show()"
   ]
  },
  {
   "cell_type": "code",
   "execution_count": 23,
   "id": "72da7a49-14d5-4845-a532-f5e6e3bf4fb8",
   "metadata": {},
   "outputs": [],
   "source": [
    "evaluator=BinaryClassificationEvaluator(rawPredictionCol='prediction',labelCol='churn_integer')"
   ]
  },
  {
   "cell_type": "code",
   "execution_count": 24,
   "id": "5bdf55ae-5770-4468-9638-b4c320ea9e14",
   "metadata": {},
   "outputs": [
    {
     "data": {
      "text/plain": [
       "0.5102658392706658"
      ]
     },
     "execution_count": 24,
     "metadata": {},
     "output_type": "execute_result"
    }
   ],
   "source": [
    "evaluator.evaluate(prediction.predictions)"
   ]
  },
  {
   "cell_type": "code",
   "execution_count": 25,
   "id": "a0d3ed70-d6f6-4d28-b790-dc7431df0999",
   "metadata": {},
   "outputs": [],
   "source": [
    "model=LogisticRegression(labelCol='churn_integer')\n",
    "model=model.fit(final_data)"
   ]
  },
  {
   "cell_type": "code",
   "execution_count": 26,
   "id": "816404fe-b4ac-4210-9e92-48cfafb07736",
   "metadata": {},
   "outputs": [],
   "source": [
    "test_data=assembler.transform(input_data)"
   ]
  },
  {
   "cell_type": "code",
   "execution_count": 27,
   "id": "a5e6d7af-3a1d-4b35-9f66-93ffc287f717",
   "metadata": {},
   "outputs": [],
   "source": [
    "result=model.transform(test_data)"
   ]
  },
  {
   "cell_type": "code",
   "execution_count": 28,
   "id": "34ef7b84-7f92-4850-a5cd-519b5c73f60e",
   "metadata": {},
   "outputs": [
    {
     "name": "stdout",
     "output_type": "stream",
     "text": [
      "+-----+--------------+---------+------------------+---------------+---------------------+-----------------+---------------+----------------+-----------------+---------------+----------------+-------------------+-----------------+------------------+------------------+----------------+-----------------+----------------------+-----+-------------+--------------------+--------------------+--------------------+----------+\n",
      "|State|Account length|Area code|International plan|Voice mail plan|Number vmail messages|Total day minutes|Total day calls|Total day charge|Total eve minutes|Total eve calls|Total eve charge|Total night minutes|Total night calls|Total night charge|Total intl minutes|Total intl calls|Total intl charge|Customer service calls|Churn|churn_integer|            features|       rawPrediction|         probability|prediction|\n",
      "+-----+--------------+---------+------------------+---------------+---------------------+-----------------+---------------+----------------+-----------------+---------------+----------------+-------------------+-----------------+------------------+------------------+----------------+-----------------+----------------------+-----+-------------+--------------------+--------------------+--------------------+----------+\n",
      "|   KS|           128|      415|                No|            Yes|                   25|            265.1|            110|           45.07|            197.4|             99|           16.78|              244.7|               91|             11.01|              10.0|               3|              2.7|                     1|false|            0|[128.0,415.0,99.0...|[1.18600347463268...|[0.76602552700815...|       0.0|\n",
      "|   OH|           107|      415|                No|            Yes|                   26|            161.6|            123|           27.47|            195.5|            103|           16.62|              254.4|              103|             11.45|              13.7|               3|              3.7|                     1|false|            0|[107.0,415.0,103....|[2.38891381464865...|[0.91597801054724...|       0.0|\n",
      "|   NJ|           137|      415|                No|             No|                    0|            243.4|            114|           41.38|            121.2|            110|            10.3|              162.6|              104|              7.32|              12.2|               5|             3.29|                     0|false|            0|[137.0,415.0,110....|[1.85047793821261...|[0.86418320864568...|       0.0|\n",
      "|   OH|            84|      408|               Yes|             No|                    0|            299.4|             71|            50.9|             61.9|             88|            5.26|              196.9|               89|              8.86|               6.6|               7|             1.78|                     2|false|            0|[84.0,408.0,88.0,...|[0.49989950003223...|[0.62243571304570...|       0.0|\n",
      "|   OK|            75|      415|               Yes|             No|                    0|            166.7|            113|           28.34|            148.3|            122|           12.61|              186.9|              121|              8.41|              10.1|               3|             2.73|                     3|false|            0|[75.0,415.0,122.0...|[1.56484446990882...|[0.82704740421193...|       0.0|\n",
      "|   AL|           118|      510|               Yes|             No|                    0|            223.4|             98|           37.98|            220.6|            101|           18.75|              203.9|              118|              9.18|               6.3|               6|              1.7|                     0|false|            0|[118.0,510.0,101....|[2.11639204426200...|[0.89248621960681...|       0.0|\n",
      "|   MA|           121|      510|                No|            Yes|                   24|            218.2|             88|           37.09|            348.5|            108|           29.62|              212.6|              118|              9.57|               7.5|               7|             2.03|                     3|false|            0|[121.0,510.0,108....|[0.94259682276112...|[0.71962390494121...|       0.0|\n",
      "|   MO|           147|      415|               Yes|             No|                    0|            157.0|             79|           26.69|            103.1|             94|            8.76|              211.8|               96|              9.53|               7.1|               6|             1.92|                     0|false|            0|[147.0,415.0,94.0...|[2.91854270951517...|[0.94875549411264...|       0.0|\n",
      "|   WV|           141|      415|               Yes|            Yes|                   37|            258.6|             84|           43.96|            222.0|            111|           18.87|              326.4|               97|             14.69|              11.2|               5|             3.02|                     0|false|            0|[141.0,415.0,111....|[1.74305021555142...|[0.85107408523969...|       0.0|\n",
      "|   RI|            74|      415|                No|             No|                    0|            187.7|            127|           31.91|            163.4|            148|           13.89|              196.0|               94|              8.82|               9.1|               5|             2.46|                     0|false|            0|[74.0,415.0,148.0...|[2.57287479063409...|[0.92909531288226...|       0.0|\n",
      "|   IA|           168|      408|                No|             No|                    0|            128.8|             96|            21.9|            104.9|             71|            8.92|              141.1|              128|              6.35|              11.2|               2|             3.02|                     1|false|            0|[168.0,408.0,71.0...|[2.74238387096008...|[0.93948177558297...|       0.0|\n",
      "|   MT|            95|      510|                No|             No|                    0|            156.6|             88|           26.62|            247.6|             75|           21.05|              192.3|              115|              8.65|              12.3|               5|             3.32|                     3|false|            0|[95.0,510.0,75.0,...|[1.65952724153327...|[0.84017453064901...|       0.0|\n",
      "|   IA|            62|      415|                No|             No|                    0|            120.7|             70|           20.52|            307.2|             76|           26.11|              203.0|               99|              9.14|              13.1|               6|             3.54|                     4|false|            0|[62.0,415.0,76.0,...|[1.75784739486284...|[0.85293985657815...|       0.0|\n",
      "|   ID|            85|      408|                No|            Yes|                   27|            196.4|            139|           33.39|            280.9|             90|           23.88|               89.3|               75|              4.02|              13.8|               4|             3.73|                     1|false|            0|[85.0,408.0,90.0,...|[1.95721494263245...|[0.87623122913838...|       0.0|\n",
      "|   VT|            93|      510|                No|             No|                    0|            190.7|            114|           32.42|            218.2|            111|           18.55|              129.6|              121|              5.83|               8.1|               3|             2.19|                     3|false|            0|[93.0,510.0,111.0...|[1.23332514878872...|[0.77440002313967...|       0.0|\n",
      "|   VA|            76|      510|                No|            Yes|                   33|            189.7|             66|           32.25|            212.8|             65|           18.09|              165.7|              108|              7.46|              10.0|               5|              2.7|                     1|false|            0|[76.0,510.0,65.0,...|[2.18007740355136...|[0.89844613467266...|       0.0|\n",
      "|   TX|            73|      415|                No|             No|                    0|            224.4|             90|           38.15|            159.5|             88|           13.56|              192.8|               74|              8.68|              13.0|               2|             3.51|                     1|false|            0|[73.0,415.0,88.0,...|[1.76009336031402...|[0.85322135253287...|       0.0|\n",
      "|   FL|           147|      415|                No|             No|                    0|            155.1|            117|           26.37|            239.7|             93|           20.37|              208.8|              133|               9.4|              10.6|               4|             2.86|                     0|false|            0|[147.0,415.0,93.0...|[2.84687280127153...|[0.94515680861380...|       0.0|\n",
      "|   CO|            77|      408|                No|             No|                    0|             62.4|             89|           10.61|            169.9|            121|           14.44|              209.6|               64|              9.43|               5.7|               6|             1.54|                     5| true|            1|[77.0,408.0,121.0...|[1.99730995565009...|[0.88051435113282...|       0.0|\n",
      "|   AZ|           130|      415|                No|             No|                    0|            183.0|            112|           31.11|             72.9|             99|             6.2|              181.8|               78|              8.18|               9.5|              19|             2.57|                     0|false|            0|[130.0,415.0,99.0...|[2.55780940306901...|[0.92809640863411...|       0.0|\n",
      "+-----+--------------+---------+------------------+---------------+---------------------+-----------------+---------------+----------------+-----------------+---------------+----------------+-------------------+-----------------+------------------+------------------+----------------+-----------------+----------------------+-----+-------------+--------------------+--------------------+--------------------+----------+\n",
      "only showing top 20 rows\n",
      "\n"
     ]
    }
   ],
   "source": [
    "result.show()"
   ]
  },
  {
   "cell_type": "code",
   "execution_count": 29,
   "id": "418e386a-30ff-4e83-bfec-882ce4c65237",
   "metadata": {},
   "outputs": [
    {
     "name": "stdout",
     "output_type": "stream",
     "text": [
      "+-----+----------+\n",
      "|State|prediction|\n",
      "+-----+----------+\n",
      "|   KS|       0.0|\n",
      "|   OH|       0.0|\n",
      "|   NJ|       0.0|\n",
      "|   OH|       0.0|\n",
      "|   OK|       0.0|\n",
      "|   AL|       0.0|\n",
      "|   MA|       0.0|\n",
      "|   MO|       0.0|\n",
      "|   WV|       0.0|\n",
      "|   RI|       0.0|\n",
      "|   IA|       0.0|\n",
      "|   MT|       0.0|\n",
      "|   IA|       0.0|\n",
      "|   ID|       0.0|\n",
      "|   VT|       0.0|\n",
      "|   VA|       0.0|\n",
      "|   TX|       0.0|\n",
      "|   FL|       0.0|\n",
      "|   CO|       0.0|\n",
      "|   AZ|       0.0|\n",
      "+-----+----------+\n",
      "only showing top 20 rows\n",
      "\n"
     ]
    }
   ],
   "source": [
    "result.select('State','prediction').show()"
   ]
  },
  {
   "cell_type": "code",
   "execution_count": 30,
   "id": "989b0926-a946-4d8c-a169-f533d7d49a32",
   "metadata": {},
   "outputs": [],
   "source": [
    "# Save the model\n",
    "\n",
    "model.write().overwrite().save(\"modelnew.pkl\")  # Replace \"model99\" with your desired filename\n"
   ]
  },
  {
   "cell_type": "code",
   "execution_count": null,
   "id": "947f3f2d-64cd-4ea6-bc5c-5797e5d80004",
   "metadata": {},
   "outputs": [],
   "source": []
  }
 ],
 "metadata": {
  "kernelspec": {
   "display_name": "Python 3 (ipykernel)",
   "language": "python",
   "name": "python3"
  },
  "language_info": {
   "codemirror_mode": {
    "name": "ipython",
    "version": 3
   },
   "file_extension": ".py",
   "mimetype": "text/x-python",
   "name": "python",
   "nbconvert_exporter": "python",
   "pygments_lexer": "ipython3",
   "version": "3.11.6"
  }
 },
 "nbformat": 4,
 "nbformat_minor": 5
}
